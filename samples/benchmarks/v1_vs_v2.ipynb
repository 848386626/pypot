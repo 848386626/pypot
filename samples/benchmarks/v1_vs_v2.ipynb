{
 "metadata": {
  "name": "",
  "signature": "sha256:b16e4dd6f656a3682f000825eb95f9c018d8f34070fa81a79dad2c02d3994160"
 },
 "nbformat": 3,
 "nbformat_minor": 0,
 "worksheets": [
  {
   "cells": [
    {
     "cell_type": "code",
     "collapsed": false,
     "input": [
      "%pylab inline"
     ],
     "language": "python",
     "metadata": {},
     "outputs": [
      {
       "output_type": "stream",
       "stream": "stdout",
       "text": [
        "Populating the interactive namespace from numpy and matplotlib\n"
       ]
      }
     ],
     "prompt_number": 1
    },
    {
     "cell_type": "code",
     "collapsed": false,
     "input": [
      "import pickle \n",
      "\n",
      "with open('data.pickle') as f:\n",
      "    data = pickle.load(f)\n",
      "    \n",
      "packets = data['packet']"
     ],
     "language": "python",
     "metadata": {},
     "outputs": [],
     "prompt_number": 2
    },
    {
     "cell_type": "code",
     "collapsed": false,
     "input": [
      "to_plot = (('dell', '2.7.8'),\n",
      "           ('dell', 'pypy-2.3.1'),\n",
      "\n",
      "           ('v2', '2.7.8'),\n",
      "           ('v2', 'pypy-2.3.1'))"
     ],
     "language": "python",
     "metadata": {},
     "outputs": [],
     "prompt_number": 3
    },
    {
     "cell_type": "code",
     "collapsed": false,
     "input": [
      "indices = array([0.5, 1.0, \n",
      "                 2.0, 2.5])\n",
      "\n",
      "color = {'serial': 'b',\n",
      "         'forged': 'r',\n",
      "         'pypot': 'g'}\n",
      "\n",
      "width = 0.4\n",
      "\n",
      "with xkcd():\n",
      "    fig = plt.figure()\n",
      "    ax = fig.add_axes((0.1, 0.2, 0.8, 0.7))\n",
      "    \n",
      "    for s in ['pypot', 'forged', 'serial']:\n",
      "        x = [mean(packets[s][b][p]) * 1000 for b, p in to_plot]\n",
      "        ax.bar(indices, x, width, color=color[s])\n",
      "    \n",
      "    ax.spines['right'].set_color('none')\n",
      "    ax.spines['top'].set_color('none')\n",
      "    ax.xaxis.set_ticks_position('bottom')\n",
      "    ax.yaxis.set_ticks_position('left')\n",
      "\n",
      "    ax.set_xticks(indices + width/2)\n",
      "    \n",
      "    ax.set_xticklabels(['2.7.8\\n               V1',\n",
      "                        'PyPy',\n",
      "                        '2.7.8\\n                V2',\n",
      "                        'PyPy'])\n",
      "\n",
      "    plt.ylabel('time (ms)')\n",
      "    plt.title(\"BOARDS COMPARISON\")\n",
      "    legend(['V1', 'V2'], loc='best')"
     ],
     "language": "python",
     "metadata": {},
     "outputs": []
    }
   ],
   "metadata": {}
  }
 ]
}