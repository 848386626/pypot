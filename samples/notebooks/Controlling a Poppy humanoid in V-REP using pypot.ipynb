{
 "metadata": {
  "language_info": {
   "codemirror_mode": {
    "name": "ipython",
    "version": 2
   },
   "file_extension": ".py",
   "mimetype": "text/x-python",
   "name": "python",
   "nbconvert_exporter": "python",
   "pygments_lexer": "ipython2",
   "version": "2.7.9"
  },
  "name": "",
  "signature": "sha256:420adac558d08f88a78397de56ca23351987c1b334827c658431917ba49f0b76"
 },
 "nbformat": 3,
 "nbformat_minor": 0,
 "worksheets": [
  {
   "cells": [
    {
     "cell_type": "heading",
     "level": 1,
     "metadata": {},
     "source": [
      "How-To: Control a Poppy Humanoid in V-REP using [pypot](https://github.com/poppy-project/pypot)"
     ]
    },
    {
     "cell_type": "markdown",
     "metadata": {},
     "source": [
      "![alt text](./vrep-header.png)"
     ]
    },
    {
     "cell_type": "heading",
     "level": 2,
     "metadata": {},
     "source": [
      "Introduction"
     ]
    },
    {
     "cell_type": "markdown",
     "metadata": {},
     "source": [
      "In this notebook, we will present how a simulated poppy humanoid can be controlled in real time using pypot."
     ]
    },
    {
     "cell_type": "markdown",
     "metadata": {},
     "source": [
      "In more details, we will:\n",
      "* see how we can **instantiate a simulated poppy humanoid in V-REP**\n",
      "* learn how we can **read/send values to the motors**\n",
      "* **track** one of poppy's part 3D **position and orientation** (e.g. its head)\n",
      "* write a **simple primitive** to design higher level behaviors"
     ]
    },
    {
     "cell_type": "markdown",
     "metadata": {},
     "source": [
      "*Note: Most of the tutorial is redundant with the ones on how to control a \"real\" poppy creature. In particular, switching from a real robot to a simulated one (and vice versa) can be done just by changing a single line of code (see the [appendix]() at the end of this notebook). Furthermore, most of the notebook can be applied to any Poppy Creature (and even any \"pypot robot\"), only the instantiation method will change.*"
     ]
    },
    {
     "cell_type": "heading",
     "level": 3,
     "metadata": {},
     "source": [
      "What's needed?"
     ]
    },
    {
     "cell_type": "markdown",
     "metadata": {},
     "source": [
      "To follow this tutorial you will need:\n",
      "\n",
      "* the [V-REP](http://www.coppeliarobotics.com) simulator (please directly see [v-rep download section](http://www.coppeliarobotics.com/downloads.html) for installation details)\n",
      "* the python [pypot](https://github.com/poppy-project/pypot) library version >= 2.1\n",
      "* the [poppy_humanoid](https://github.com/poppy-project/Poppy-Humanoid) software library >= 1.0"
     ]
    },
    {
     "cell_type": "markdown",
     "metadata": {},
     "source": [
      "The pypot and poppy_humanoid library can be installed via pip:"
     ]
    },
    {
     "cell_type": "markdown",
     "metadata": {},
     "source": [
      "```bash\n",
      "pip install poppy_humanoid\n",
      "```\n",
      "\n",
      "or (depending on your python configuration)\n",
      "\n",
      "```bash\n",
      "sudo pip install poppy_humanoid\n",
      "```"
     ]
    },
    {
     "cell_type": "markdown",
     "metadata": {},
     "source": [
      "You can also install them from the source and then use the classical:\n",
      "\n",
      "```bash\n",
      "python setup.py install\n",
      "```\n",
      "or\n",
      "```bash\n",
      "sudo python setup.py install\n",
      "```"
     ]
    },
    {
     "cell_type": "markdown",
     "metadata": {},
     "source": [
      "*Note: installing poppy_humanoid will also install pypot as it is one of the depencies.*"
     ]
    },
    {
     "cell_type": "markdown",
     "metadata": {},
     "source": [
      "If you are not familiar with python packages installation process, you can refer to [this documentation](https://packaging.python.org/en/latest/installing.html) for instance."
     ]
    },
    {
     "cell_type": "heading",
     "level": 3,
     "metadata": {},
     "source": [
      "Checking your installation"
     ]
    },
    {
     "cell_type": "markdown",
     "metadata": {},
     "source": [
      "If the following code runs without raising an error, everything is probably installed correctly:"
     ]
    },
    {
     "cell_type": "code",
     "collapsed": false,
     "input": [
      "from pypot.vrep import from_vrep\n",
      "from poppy.creatures import PoppyHumanoid"
     ],
     "language": "python",
     "metadata": {},
     "outputs": [],
     "prompt_number": 1
    },
    {
     "cell_type": "heading",
     "level": 2,
     "metadata": {},
     "source": [
      "Instantiating a [Poppy Humanoid](https://www.poppy-project.org/creatures/poppy-humanoid/)"
     ]
    },
    {
     "cell_type": "markdown",
     "metadata": {},
     "source": [
      "In this section, we will see how a Poppy Humanoid can be instantiated into V-REP and how we can connect it to a [pypot Robot](http://poppy-project.github.io/pypot/pypot.robot.html)."
     ]
    },
    {
     "cell_type": "markdown",
     "metadata": {},
     "source": [
      "First, you will need to launch V-REP (please refer to [V-REP documentation](http://www.coppeliarobotics.com/helpFiles/index.html) if you don't know how to do it). Once it's done you should see something like:\n",
      "\n",
      "![alt text](./vrep-screenshot.png)"
     ]
    },
    {
     "cell_type": "markdown",
     "metadata": {},
     "source": [
      "Instead of loading a specific scene which add a Poppy humanoid through V-REP GUI and then connect to it using pypot, we will directly instantiate the [PoppyHumanoid](https://github.com/poppy-project/Poppy-Humanoid) class which will do most of the work for us."
     ]
    },
    {
     "cell_type": "markdown",
     "metadata": {},
     "source": [
      "In particular, it will:\n",
      "* load a V-REP scene with a Poppy Humanoid\n",
      "* instantiate a [pypot Robot](http://poppy-project.github.io/pypot/pypot.robot.html) and connect it to the simulated Poppy"
     ]
    },
    {
     "cell_type": "markdown",
     "metadata": {},
     "source": [
      "To do that, we will use the following code:"
     ]
    },
    {
     "cell_type": "code",
     "collapsed": false,
     "input": [
      "from poppy.creatures import PoppyHumanoid\n",
      "\n",
      "poppy = PoppyHumanoid(simulator='vrep')"
     ],
     "language": "python",
     "metadata": {},
     "outputs": [],
     "prompt_number": 2
    },
    {
     "cell_type": "markdown",
     "metadata": {},
     "source": [
      "You should now see a Poppy in your V-REP window:\n",
      "\n",
      "![alt text](./vrep-poppy.png)"
     ]
    },
    {
     "cell_type": "markdown",
     "metadata": {},
     "source": [
      "**Be careful that VREP is often displaying pop-up that freezes the communication with pypot. You will have to close them otherwise a timeout will occur!**"
     ]
    },
    {
     "cell_type": "heading",
     "level": 2,
     "metadata": {},
     "source": [
      "Controlling motors"
     ]
    },
    {
     "cell_type": "markdown",
     "metadata": {},
     "source": [
      "As soon as you have instantiated a [Robot](http://poppy-project.github.io/pypot/pypot.robot.html#pypot.robot.robot.Robot) - in our case through the [PoppyHumanoid](https://github.com/poppy-project/Poppy-Humanoid) class - it is synced with the simulation. This means that values from the V-REP simulation (e.g. limbs position) are retrieved and affected to their equivalent variables. Similarly target variables (e.g. motors goal position) are sent to V-REP. This synchronization loop runs at 50Hz by default."
     ]
    },
    {
     "cell_type": "markdown",
     "metadata": {},
     "source": [
      "To be more clear, when reading a variable from the *poppy* object you will obtain the last synced value from V-REP and when setting a new value to a *poppy* variable it will be automatically sent to V-REP a short time after. You never need to manually sync your instance with the current state of the simulation, it is automatically done by a thread running in background."
     ]
    },
    {
     "cell_type": "heading",
     "level": 3,
     "metadata": {},
     "source": [
      "Accessing motors registers"
     ]
    },
    {
     "cell_type": "markdown",
     "metadata": {},
     "source": [
      "So, first we will retrieve the list of all available motors. The [motors](http://poppy-project.github.io/pypot/pypot.robot.html#pypot.robot.robot.Robot.motors) variable contains the list of all motors attached to the current robot. \n",
      "\n",
      "By default, each motor print its name, its id, and its current position:"
     ]
    },
    {
     "cell_type": "code",
     "collapsed": false,
     "input": [
      "poppy.motors"
     ],
     "language": "python",
     "metadata": {},
     "outputs": [
      {
       "metadata": {},
       "output_type": "pyout",
       "prompt_number": 3,
       "text": [
        "[<DxlMotor name=l_elbow_y id=44 pos=0.0>,\n",
        " <DxlMotor name=r_elbow_y id=54 pos=0.0>,\n",
        " <DxlMotor name=r_knee_y id=24 pos=0.0>,\n",
        " <DxlMotor name=head_y id=37 pos=-20.0>,\n",
        " <DxlMotor name=head_z id=36 pos=0.0>,\n",
        " <DxlMotor name=r_arm_z id=53 pos=0.0>,\n",
        " <DxlMotor name=r_ankle_y id=25 pos=0.0>,\n",
        " <DxlMotor name=r_shoulder_x id=52 pos=-90.0>,\n",
        " <DxlMotor name=r_shoulder_y id=51 pos=-90>,\n",
        " <DxlMotor name=r_hip_z id=22 pos=0>,\n",
        " <DxlMotor name=r_hip_x id=21 pos=0.0>,\n",
        " <DxlMotor name=r_hip_y id=23 pos=0.0>,\n",
        " <DxlMotor name=l_arm_z id=43 pos=0.0>,\n",
        " <DxlMotor name=l_hip_x id=11 pos=0.0>,\n",
        " <DxlMotor name=l_hip_y id=13 pos=-2.0>,\n",
        " <DxlMotor name=l_hip_z id=12 pos=0>,\n",
        " <DxlMotor name=abs_x id=32 pos=0.0>,\n",
        " <DxlMotor name=abs_y id=31 pos=0.0>,\n",
        " <DxlMotor name=abs_z id=33 pos=0.0>,\n",
        " <DxlMotor name=l_ankle_y id=15 pos=0.0>,\n",
        " <DxlMotor name=bust_y id=34 pos=0.0>,\n",
        " <DxlMotor name=bust_x id=35 pos=0.0>,\n",
        " <DxlMotor name=l_knee_y id=14 pos=0.0>,\n",
        " <DxlMotor name=l_shoulder_x id=42 pos=90.0>,\n",
        " <DxlMotor name=l_shoulder_y id=41 pos=-90>]"
       ]
      }
     ],
     "prompt_number": 3
    },
    {
     "cell_type": "markdown",
     "metadata": {},
     "source": [
      "You can access a specific motor directly using its name:"
     ]
    },
    {
     "cell_type": "code",
     "collapsed": false,
     "input": [
      "poppy.l_shoulder_y"
     ],
     "language": "python",
     "metadata": {},
     "outputs": [
      {
       "metadata": {},
       "output_type": "pyout",
       "prompt_number": 4,
       "text": [
        "<DxlMotor name=l_shoulder_y id=41 pos=-90>"
       ]
      }
     ],
     "prompt_number": 4
    },
    {
     "cell_type": "markdown",
     "metadata": {},
     "source": [
      "If we want to get the current position (in degrees) of a specific motor (e.g. *head_y*) we can use:"
     ]
    },
    {
     "cell_type": "code",
     "collapsed": false,
     "input": [
      "poppy.head_y.present_position"
     ],
     "language": "python",
     "metadata": {},
     "outputs": [
      {
       "metadata": {},
       "output_type": "pyout",
       "prompt_number": 5,
       "text": [
        "-20.0"
       ]
      }
     ],
     "prompt_number": 5
    },
    {
     "cell_type": "markdown",
     "metadata": {},
     "source": [
      "You can also use the list/dict comprehension to retrieve a specific value for all motors."
     ]
    },
    {
     "cell_type": "markdown",
     "metadata": {},
     "source": [
      "A list of all current motor positions:"
     ]
    },
    {
     "cell_type": "code",
     "collapsed": false,
     "input": [
      "[m.present_position for m in poppy.motors]"
     ],
     "language": "python",
     "metadata": {},
     "outputs": [
      {
       "metadata": {},
       "output_type": "pyout",
       "prompt_number": 6,
       "text": [
        "[0.0,\n",
        " 0.0,\n",
        " 0.0,\n",
        " -20.0,\n",
        " 0.0,\n",
        " 0.0,\n",
        " 0.0,\n",
        " -90.0,\n",
        " -90,\n",
        " 0,\n",
        " 0.0,\n",
        " 0.0,\n",
        " 0.0,\n",
        " 0.0,\n",
        " -2.0,\n",
        " 0,\n",
        " 0.0,\n",
        " 0.0,\n",
        " 0.0,\n",
        " 0.0,\n",
        " 0.0,\n",
        " 0.0,\n",
        " 0.0,\n",
        " 90.0,\n",
        " -90]"
       ]
      }
     ],
     "prompt_number": 6
    },
    {
     "cell_type": "markdown",
     "metadata": {},
     "source": [
      "A dictionary of pairs {motor_name: motor_position}:"
     ]
    },
    {
     "cell_type": "code",
     "collapsed": false,
     "input": [
      "{m.name: m.present_position for m in poppy.motors}"
     ],
     "language": "python",
     "metadata": {},
     "outputs": [
      {
       "metadata": {},
       "output_type": "pyout",
       "prompt_number": 7,
       "text": [
        "{u'abs_x': 0.0,\n",
        " u'abs_y': 0.0,\n",
        " u'abs_z': 0.0,\n",
        " u'bust_x': 0.0,\n",
        " u'bust_y': 0.0,\n",
        " u'head_y': -20.0,\n",
        " u'head_z': 0.0,\n",
        " u'l_ankle_y': 0.0,\n",
        " u'l_arm_z': 0.0,\n",
        " u'l_elbow_y': 0.0,\n",
        " u'l_hip_x': 0.0,\n",
        " u'l_hip_y': -2.0,\n",
        " u'l_hip_z': 0,\n",
        " u'l_knee_y': 0.0,\n",
        " u'l_shoulder_x': 90.0,\n",
        " u'l_shoulder_y': -90,\n",
        " u'r_ankle_y': 0.0,\n",
        " u'r_arm_z': 0.0,\n",
        " u'r_elbow_y': 0.0,\n",
        " u'r_hip_x': 0.0,\n",
        " u'r_hip_y': 0.0,\n",
        " u'r_hip_z': 0,\n",
        " u'r_knee_y': 0.0,\n",
        " u'r_shoulder_x': -90.0,\n",
        " u'r_shoulder_y': -90}"
       ]
      }
     ],
     "prompt_number": 7
    },
    {
     "cell_type": "heading",
     "level": 3,
     "metadata": {},
     "source": [
      "Motor alias"
     ]
    },
    {
     "cell_type": "markdown",
     "metadata": {},
     "source": [
      "The motor variable is just one of the predefined motors alias - one with all attached motors. Poppy Humanoid also defines a *leg* alias, a *left arm* alias..."
     ]
    },
    {
     "cell_type": "markdown",
     "metadata": {},
     "source": [
      "You can retrieve the list of motors alias available using:"
     ]
    },
    {
     "cell_type": "code",
     "collapsed": false,
     "input": [
      "poppy.alias"
     ],
     "language": "python",
     "metadata": {},
     "outputs": [
      {
       "metadata": {},
       "output_type": "pyout",
       "prompt_number": 8,
       "text": [
        "[u'r_leg',\n",
        " u'torso',\n",
        " u'l_leg_sagitall',\n",
        " u'head',\n",
        " u'l_arm',\n",
        " u'r_leg_sagitall',\n",
        " u'l_leg',\n",
        " u'arms',\n",
        " u'legs',\n",
        " u'r_arm']"
       ]
      }
     ],
     "prompt_number": 8
    },
    {
     "cell_type": "markdown",
     "metadata": {},
     "source": [
      "Each alias contains a list of motors. Thus, you can similarly retrieve all positions for only the motors of the right leg:"
     ]
    },
    {
     "cell_type": "code",
     "collapsed": false,
     "input": [
      "{m.name: m.present_position for m in poppy.r_leg}"
     ],
     "language": "python",
     "metadata": {},
     "outputs": [
      {
       "metadata": {},
       "output_type": "pyout",
       "prompt_number": 9,
       "text": [
        "{u'r_ankle_y': 0.0,\n",
        " u'r_hip_x': 0.0,\n",
        " u'r_hip_y': 0.0,\n",
        " u'r_hip_z': 0,\n",
        " u'r_knee_y': 0.0}"
       ]
      }
     ],
     "prompt_number": 9
    },
    {
     "cell_type": "heading",
     "level": 3,
     "metadata": {},
     "source": [
      "Setting registers"
     ]
    },
    {
     "cell_type": "markdown",
     "metadata": {},
     "source": [
      "In a similar way that you retrieve value from V-REP, you can set a new target position to a motor."
     ]
    },
    {
     "cell_type": "markdown",
     "metadata": {},
     "source": [
      "By sending the following command, you should see the robot turns its head:"
     ]
    },
    {
     "cell_type": "code",
     "collapsed": false,
     "input": [
      "poppy.head_z.goal_position = 90."
     ],
     "language": "python",
     "metadata": {},
     "outputs": [],
     "prompt_number": 10
    },
    {
     "cell_type": "markdown",
     "metadata": {},
     "source": [
      "Or you can affect new target positions for a group of motors:"
     ]
    },
    {
     "cell_type": "code",
     "collapsed": false,
     "input": [
      "for m in poppy.l_arm:\n",
      "    m.goal_position = 30."
     ],
     "language": "python",
     "metadata": {},
     "outputs": [],
     "prompt_number": 11
    },
    {
     "cell_type": "markdown",
     "metadata": {},
     "source": [
      "It's important to note the difference between the current and goal position. In particular, when setting a new goal position, it will take time before the motor actually reaches the desired position (see section below for an example)."
     ]
    },
    {
     "cell_type": "markdown",
     "metadata": {},
     "source": [
      "Thus, in the code below only the second instruction will likely have an effect on the robot:"
     ]
    },
    {
     "cell_type": "code",
     "collapsed": false,
     "input": [
      "poppy.r_shoulder_x.goal_position = 30\n",
      "poppy.r_shoulder_x.goal_position = -30"
     ],
     "language": "python",
     "metadata": {},
     "outputs": [],
     "prompt_number": 12
    },
    {
     "cell_type": "markdown",
     "metadata": {},
     "source": [
      "*Note: While the full list of motor registers is available, not all of them are having an effect in the V-REP simulation. For instance, modifying the pid of a motor won't affect the simulation.*\n",
      "\n",
      "*Currently you can use:*\n",
      "\n",
      "* *present_position*\n",
      "* *goal_position*\n",
      "* *present_load*\n",
      "* *torque_limit*\n",
      "* *compliant*\n",
      "* *angle_limit*\n",
      "\n",
      "*Support for additional features may be added in future version.*"
     ]
    },
    {
     "cell_type": "heading",
     "level": 3,
     "metadata": {},
     "source": [
      "Goto position"
     ]
    },
    {
     "cell_type": "markdown",
     "metadata": {},
     "source": [
      "You can also use the [goto_position](http://poppy-project.github.io/pypot/pypot.dynamixel.html#pypot.dynamixel.motor.DxlMotor.goto_position) method (both at the robot or motor level) to get more control over the trajectory of a motor. In the examples above, when affecting the [goal_position](http://poppy-project.github.io/pypot/pypot.dynamixel.html#pypot.dynamixel.io.DxlIO.get_goal_position) the motor will try to reach as fast as the [moving_speed](http://poppy-project.github.io/pypot/pypot.dynamixel.html#pypot.dynamixel.io.DxlIO.get_moving_speed) permits it. "
     ]
    },
    {
     "cell_type": "markdown",
     "metadata": {},
     "source": [
      "At the moment, [goto_position](http://poppy-project.github.io/pypot/pypot.dynamixel.html#pypot.dynamixel.motor.DxlMotor.goto_position) comes with two behaviors:\n",
      "* *dummy:* just adjust the moving_speed so the goal_position is reached at the predefined time step (not always very accurate)\n",
      "* *minjerk:* using the [minimum jerk](http://nbviewer.ipython.org/github/demotu/BMC/blob/master/notebooks/MinimumJerkHypothesis.ipynb) to compute a smoother trajectory."
     ]
    },
    {
     "cell_type": "markdown",
     "metadata": {},
     "source": [
      "First, let's restart the simulation:"
     ]
    },
    {
     "cell_type": "code",
     "collapsed": false,
     "input": [
      "poppy.reset_simulation()"
     ],
     "language": "python",
     "metadata": {},
     "outputs": [],
     "prompt_number": 13
    },
    {
     "cell_type": "markdown",
     "metadata": {},
     "source": [
      "Now, we make the head move towards -45\u00b0 in 2 seconds:"
     ]
    },
    {
     "cell_type": "code",
     "collapsed": false,
     "input": [
      "poppy.head_z.goto_position(-45, 2)"
     ],
     "language": "python",
     "metadata": {},
     "outputs": [],
     "prompt_number": 14
    },
    {
     "cell_type": "markdown",
     "metadata": {},
     "source": [
      "Goto position also comes with a wait arguments, so you can easily link motions:"
     ]
    },
    {
     "cell_type": "code",
     "collapsed": false,
     "input": [
      "poppy.head_z.goto_position(45, 2, wait=False)\n",
      "poppy.head_y.goto_position(-30, 2, wait=True)\n",
      "\n",
      "poppy.head_z.goto_position(0, 2, wait=True)\n",
      "\n",
      "poppy.head_y.goto_position(20, 1, wait=True)"
     ],
     "language": "python",
     "metadata": {},
     "outputs": [],
     "prompt_number": 15
    },
    {
     "cell_type": "markdown",
     "metadata": {},
     "source": [
      "You can get and set a new *goto_behavior* through the property:"
     ]
    },
    {
     "cell_type": "code",
     "collapsed": false,
     "input": [
      "poppy.head_y.goto_behavior"
     ],
     "language": "python",
     "metadata": {},
     "outputs": [
      {
       "metadata": {},
       "output_type": "pyout",
       "prompt_number": 16,
       "text": [
        "'minjerk'"
       ]
      }
     ],
     "prompt_number": 16
    },
    {
     "cell_type": "code",
     "collapsed": false,
     "input": [
      "poppy.head_y.goto_behavior = 'dummy'"
     ],
     "language": "python",
     "metadata": {},
     "outputs": [],
     "prompt_number": 17
    },
    {
     "cell_type": "heading",
     "level": 3,
     "metadata": {},
     "source": [
      "Read and Write"
     ]
    },
    {
     "cell_type": "markdown",
     "metadata": {},
     "source": [
      "Let's prepare another example where we will illustrate the difference between present and goal position by applying a sinusoid on a specific motor."
     ]
    },
    {
     "cell_type": "markdown",
     "metadata": {},
     "source": [
      "To make sure the robot is in a \"correct\" position, we will reset the simulation. This will re-positioned the robot in its initial position:"
     ]
    },
    {
     "cell_type": "code",
     "collapsed": false,
     "input": [
      "poppy.reset_simulation()"
     ],
     "language": "python",
     "metadata": {},
     "outputs": [],
     "prompt_number": 18
    },
    {
     "cell_type": "markdown",
     "metadata": {},
     "source": [
      "Now let's make the robot's head moves:"
     ]
    },
    {
     "cell_type": "code",
     "collapsed": false,
     "input": [
      "import time\n",
      "\n",
      "import math\n",
      "\n",
      "amp = 30 # in degrees\n",
      "freq = 0.5 # in Hz\n",
      "\n",
      "t0 = time.time()\n",
      "\n",
      "while True:\n",
      "    t = time.time()\n",
      "    \n",
      "    # run for 10s\n",
      "    if t - t0 > 10:\n",
      "        break\n",
      "\n",
      "    poppy.head_z.goal_position = amp * math.sin(2 * 3.14 * freq * t)\n",
      "    \n",
      "    time.sleep(0.04)"
     ],
     "language": "python",
     "metadata": {},
     "outputs": [],
     "prompt_number": 19
    },
    {
     "cell_type": "markdown",
     "metadata": {},
     "source": [
      "Now we will use the same code but we will record both the current and goal position:"
     ]
    },
    {
     "cell_type": "code",
     "collapsed": false,
     "input": [
      "current, goal = [], []\n",
      "\n",
      "t0 = time.time()\n",
      "\n",
      "while True:\n",
      "    t = time.time()\n",
      "    \n",
      "    # run for 5s\n",
      "    if t - t0 > 5:\n",
      "        break\n",
      "\n",
      "    poppy.head_z.goal_position = amp * math.sin(2 * 3.14 * freq * t)\n",
      "\n",
      "    \n",
      "    current.append(poppy.head_z.present_position)\n",
      "    goal.append(poppy.head_z.goal_position)\n",
      "    \n",
      "    time.sleep(0.04)"
     ],
     "language": "python",
     "metadata": {},
     "outputs": [],
     "prompt_number": 20
    },
    {
     "cell_type": "markdown",
     "metadata": {},
     "source": [
      "If we plot the two trajectories, we can clearly see a time shift representing the time needed by the motor to reach the desired position: "
     ]
    },
    {
     "cell_type": "code",
     "collapsed": false,
     "input": [
      "%pylab inline\n",
      "\n",
      "t = linspace(0, 5, len(current))\n",
      "plot(t, goal)\n",
      "plot(t, current)\n",
      "\n",
      "legend(('goal', 'current'))"
     ],
     "language": "python",
     "metadata": {},
     "outputs": [
      {
       "output_type": "stream",
       "stream": "stdout",
       "text": [
        "Populating the interactive namespace from numpy and matplotlib\n"
       ]
      },
      {
       "metadata": {},
       "output_type": "pyout",
       "prompt_number": 21,
       "text": [
        "<matplotlib.legend.Legend at 0x110514490>"
       ]
      },
      {
       "metadata": {},
       "output_type": "display_data",
       "png": "[encoded data removed]",
       "text": [
        "<matplotlib.figure.Figure at 0x10cae8a10>"
       ]
      }
     ],
     "prompt_number": 21
    },
    {
     "cell_type": "markdown",
     "metadata": {},
     "source": [
      "Similarly, we can observe a goto position using the *minimum jerk* mode:"
     ]
    },
    {
     "cell_type": "code",
     "collapsed": false,
     "input": [
      "poppy.l_shoulder_x.goto_behavior = 'minjerk'\n",
      "\n",
      "poppy.l_shoulder_x.goto_position(120, 5)\n",
      "\n",
      "pos = []\n",
      "t0 = time.time()\n",
      "\n",
      "while time.time() - t0 < 5:\n",
      "    pos.append(poppy.l_shoulder_x.present_position)\n",
      "    \n",
      "    time.sleep(0.01)\n",
      "    \n",
      "t = linspace(0, 5, len(pos))\n",
      "plot(t, pos)"
     ],
     "language": "python",
     "metadata": {},
     "outputs": [
      {
       "metadata": {},
       "output_type": "pyout",
       "prompt_number": 22,
       "text": [
        "[<matplotlib.lines.Line2D at 0x110686510>]"
       ]
      },
      {
       "metadata": {},
       "output_type": "display_data",
       "png": "[encoded data removed]",
       "text": [
        "<matplotlib.figure.Figure at 0x10fa46150>"
       ]
      }
     ],
     "prompt_number": 22
    },
    {
     "cell_type": "code",
     "collapsed": false,
     "input": [
      "poppy.reset_simulation()"
     ],
     "language": "python",
     "metadata": {},
     "outputs": [],
     "prompt_number": 23
    },
    {
     "cell_type": "heading",
     "level": 2,
     "metadata": {},
     "source": [
      "Tracking objects"
     ]
    },
    {
     "cell_type": "markdown",
     "metadata": {},
     "source": [
      "Using a V-REP simulated robot, you can easily retrieve an object position and orientation. You just need to know its name in the vrep scene."
     ]
    },
    {
     "cell_type": "markdown",
     "metadata": {},
     "source": [
      "For instance, to get the position of the left hand, you just have to do:"
     ]
    },
    {
     "cell_type": "code",
     "collapsed": false,
     "input": [
      "poppy.get_object_position('l_forearm_visual')"
     ],
     "language": "python",
     "metadata": {},
     "outputs": [
      {
       "metadata": {},
       "output_type": "pyout",
       "prompt_number": 24,
       "text": [
        "[0.10044951736927032, 0.005820465739816427, 0.4134606719017029]"
       ]
      }
     ],
     "prompt_number": 24
    },
    {
     "cell_type": "markdown",
     "metadata": {},
     "source": [
      "You can use this for discovering a reachable space for instance:"
     ]
    },
    {
     "cell_type": "code",
     "collapsed": false,
     "input": [
      "reached_pt = []\n",
      "\n",
      "for m in poppy.l_arm:\n",
      "    m.goto_behavior = 'minjerk'\n",
      "\n",
      "for _ in range(25):\n",
      "    poppy.reset_simulation()\n",
      "    \n",
      "    pos = {m.name: randint(min(m.angle_limit), max(m.angle_limit)) for m in poppy.l_arm}\n",
      "    poppy.goto_position(pos, 2., wait=True)\n",
      "        \n",
      "    reached_pt.append(poppy.get_object_position('l_forearm_visual'))"
     ],
     "language": "python",
     "metadata": {},
     "outputs": [],
     "prompt_number": 25
    },
    {
     "cell_type": "code",
     "collapsed": false,
     "input": [
      "from mpl_toolkits.mplot3d import Axes3D\n",
      "\n",
      "ax = axes(projection='3d')\n",
      "ax.scatter(*array(reached_pt).T)"
     ],
     "language": "python",
     "metadata": {},
     "outputs": [
      {
       "metadata": {},
       "output_type": "pyout",
       "prompt_number": 26,
       "text": [
        "<mpl_toolkits.mplot3d.art3d.Path3DCollection at 0x110775710>"
       ]
      },
      {
       "metadata": {},
       "output_type": "display_data",
       "png": "[encoded data removed]",
       "text": [
        "<matplotlib.figure.Figure at 0x110491dd0>"
       ]
      }
     ],
     "prompt_number": 26
    },
    {
     "cell_type": "markdown",
     "metadata": {},
     "source": [
      "Please see the [explauto](https://github.com/flowersteam/explauto) library if you are interested in autonomous exploration experiment using a Poppy Creature."
     ]
    },
    {
     "cell_type": "code",
     "collapsed": false,
     "input": [
      "poppy.reset_simulation()"
     ],
     "language": "python",
     "metadata": {},
     "outputs": [],
     "prompt_number": 27
    },
    {
     "cell_type": "heading",
     "level": 2,
     "metadata": {},
     "source": [
      "Using primitives"
     ]
    },
    {
     "cell_type": "markdown",
     "metadata": {},
     "source": [
      "Pypot also comes the [Primitive](http://poppy-project.github.io/pypot/primitive.html) abstraction. The idea is to write simple behaviors that can be automatically combined to create more complex behavior. As the primitive is likely to change in the future, to go toward something better defined, we will only show the very basic stuff you can do using primitives."
     ]
    },
    {
     "cell_type": "markdown",
     "metadata": {},
     "source": [
      "In more technical details, a primitive is only a thread which have access to all robot sensors and effectors. A [primitive manager](http://poppy-project.github.io/pypot/pypot.primitive.html#module-pypot.primitive.manager) is used to gather all primitives order and combined them using a filter (a simple sum by default)."
     ]
    },
    {
     "cell_type": "markdown",
     "metadata": {},
     "source": [
      "As an example of how to use primitives, we will use one of the predefined primitives, the [Sinus](http://poppy-project.github.io/pypot/pypot.primitive.html#pypot.primitive.utils.Sinus):"
     ]
    },
    {
     "cell_type": "code",
     "collapsed": false,
     "input": [
      "from pypot.primitive.utils import Sinus"
     ],
     "language": "python",
     "metadata": {},
     "outputs": [],
     "prompt_number": 28
    },
    {
     "cell_type": "markdown",
     "metadata": {},
     "source": [
      "Primitives are usually instantiated with a robot as the first argument. As Sinus is a [LoopPrimitive](http://poppy-project.github.io/pypot/pypot.primitive.html#pypot.primitive.primitive.LoopPrimitive) (i.e. a specific primitive which call an update method at a predefined frequency), you also need to pass the call frequency as the second argument)."
     ]
    },
    {
     "cell_type": "markdown",
     "metadata": {},
     "source": [
      "The other arguments, here the motors list, the amplitude and the frequency are specific to the [Sinus](http://poppy-project.github.io/pypot/pypot.primitive.html#pypot.primitive.utils.Sinus) primitive."
     ]
    },
    {
     "cell_type": "code",
     "collapsed": false,
     "input": [
      "sin_1 = Sinus(poppy, 25., [poppy.head_z, poppy.head_y], amp=15, freq=.15)"
     ],
     "language": "python",
     "metadata": {},
     "outputs": [],
     "prompt_number": 29
    },
    {
     "cell_type": "markdown",
     "metadata": {},
     "source": [
      "A primitive can be:\n",
      "* started (re-started)\n",
      "* stopped\n",
      "* paused\n",
      "* resumed"
     ]
    },
    {
     "cell_type": "markdown",
     "metadata": {},
     "source": [
      "By running the following code, you should see both motors of the head performs a sinusoid."
     ]
    },
    {
     "cell_type": "code",
     "collapsed": false,
     "input": [
      "sin_1.start()"
     ],
     "language": "python",
     "metadata": {},
     "outputs": [],
     "prompt_number": 30
    },
    {
     "cell_type": "markdown",
     "metadata": {},
     "source": [
      "Multiples primitives can be runned at the same time:"
     ]
    },
    {
     "cell_type": "code",
     "collapsed": false,
     "input": [
      "sin_2 = Sinus(poppy, 25., [poppy.head_z, ], amp=8, freq=.5)\n",
      "sin_2.start()"
     ],
     "language": "python",
     "metadata": {},
     "outputs": [],
     "prompt_number": 31
    },
    {
     "cell_type": "markdown",
     "metadata": {},
     "source": [
      "We will now write a simple motor position logger using a loop primitive:"
     ]
    },
    {
     "cell_type": "code",
     "collapsed": false,
     "input": [
      "from pypot.primitive import LoopPrimitive\n",
      "\n",
      "class MotorPositionLogger(LoopPrimitive):\n",
      "    def __init__(self, robot, refresh_freq, motor):\n",
      "        LoopPrimitive.__init__(self, robot, refresh_freq)\n",
      "        \n",
      "        self.motor = getattr(self.robot, motor.name)\n",
      "\n",
      "    def setup(self):\n",
      "        # This code will be called each time the primitive is started\n",
      "        self.positions = []\n",
      "       \n",
      "    def update(self):\n",
      "        # This method will be called at the predefined frequency\n",
      "        self.positions.append(self.motor.present_position)"
     ],
     "language": "python",
     "metadata": {},
     "outputs": [],
     "prompt_number": 32
    },
    {
     "cell_type": "code",
     "collapsed": false,
     "input": [
      "logger = MotorPositionLogger(poppy, 50, poppy.head_z)"
     ],
     "language": "python",
     "metadata": {},
     "outputs": [],
     "prompt_number": 33
    },
    {
     "cell_type": "markdown",
     "metadata": {},
     "source": [
      "We will illustrate the combination of primitives by pausing one of them in the middle of the recording:"
     ]
    },
    {
     "cell_type": "code",
     "collapsed": false,
     "input": [
      "logger.start()\n",
      "time.sleep(10)\n",
      "sin_2.pause()\n",
      "time.sleep(15)\n",
      "sin_2.resume()\n",
      "time.sleep(5)\n",
      "logger.stop()\n",
      "\n",
      "pos = logger.positions\n",
      "\n",
      "plot(linspace(0, 30, len(pos)), pos)"
     ],
     "language": "python",
     "metadata": {},
     "outputs": [
      {
       "metadata": {},
       "output_type": "pyout",
       "prompt_number": 34,
       "text": [
        "[<matplotlib.lines.Line2D at 0x1126b8410>]"
       ]
      },
      {
       "metadata": {},
       "output_type": "display_data",
       "png": "[encoded data removed]",
       "text": [
        "<matplotlib.figure.Figure at 0x111e26a90>"
       ]
      }
     ],
     "prompt_number": 34
    },
    {
     "cell_type": "markdown",
     "metadata": {},
     "source": [
      "Now we stop all running primitives:"
     ]
    },
    {
     "cell_type": "code",
     "collapsed": false,
     "input": [
      "for p in poppy.active_primitives:\n",
      "    p.stop()"
     ],
     "language": "python",
     "metadata": {},
     "outputs": [],
     "prompt_number": 35
    },
    {
     "cell_type": "heading",
     "level": 1,
     "metadata": {},
     "source": [
      "Appendix: switching from a simulated poppy to a real one"
     ]
    },
    {
     "cell_type": "markdown",
     "metadata": {},
     "source": [
      "As mentionned in the introduction, most of the code above can be run on a \"real\" robot."
     ]
    },
    {
     "cell_type": "markdown",
     "metadata": {},
     "source": [
      "All you need to change is the way the robot is instantiated. "
     ]
    },
    {
     "cell_type": "markdown",
     "metadata": {},
     "source": [
      "You have to replace:"
     ]
    },
    {
     "cell_type": "markdown",
     "metadata": {},
     "source": [
      "```python\n",
      "poppy = PoppyHumanoid(simulator='vrep')\n",
      "```\n",
      "\n",
      "by \n",
      "\n",
      "```python\n",
      "poppy = PoppyHumanoid()\n",
      "```"
     ]
    },
    {
     "cell_type": "markdown",
     "metadata": {},
     "source": [
      "Of course, some of the directly V-REP related code - such as *reset_simulation* or *get_object_position* do not have direct equivalent on the real robot. But all the rest should work and give about the same results on the real or the simulated robot."
     ]
    }
   ],
   "metadata": {}
  }
 ]
}